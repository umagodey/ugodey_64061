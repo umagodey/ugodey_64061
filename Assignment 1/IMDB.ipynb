{
  "nbformat": 4,
  "nbformat_minor": 0,
  "metadata": {
    "colab": {
      "provenance": []
    },
    "kernelspec": {
      "name": "python3",
      "display_name": "Python 3"
    },
    "language_info": {
      "name": "python"
    },
    "accelerator": "TPU"
  },
  "cells": [
    {
      "cell_type": "code",
      "execution_count": 29,
      "metadata": {
        "id": "dsD41WbqKm-d"
      },
      "outputs": [],
      "source": [
        "from tensorflow.keras.datasets import imdb\n",
        "(train_data, train_labels), (test_data, test_labels) = imdb.load_data(\n",
        "    num_words=10000)\n"
      ]
    },
    {
      "cell_type": "code",
      "source": [
        "train_data[0]"
      ],
      "metadata": {
        "id": "Xede7Gva5bji",
        "colab": {
          "base_uri": "https://localhost:8080/"
        },
        "outputId": "da50c757-a016-41f3-b6b9-a9ffb179f528"
      },
      "execution_count": 30,
      "outputs": [
        {
          "output_type": "execute_result",
          "data": {
            "text/plain": [
              "[1,\n",
              " 14,\n",
              " 22,\n",
              " 16,\n",
              " 43,\n",
              " 530,\n",
              " 973,\n",
              " 1622,\n",
              " 1385,\n",
              " 65,\n",
              " 458,\n",
              " 4468,\n",
              " 66,\n",
              " 3941,\n",
              " 4,\n",
              " 173,\n",
              " 36,\n",
              " 256,\n",
              " 5,\n",
              " 25,\n",
              " 100,\n",
              " 43,\n",
              " 838,\n",
              " 112,\n",
              " 50,\n",
              " 670,\n",
              " 2,\n",
              " 9,\n",
              " 35,\n",
              " 480,\n",
              " 284,\n",
              " 5,\n",
              " 150,\n",
              " 4,\n",
              " 172,\n",
              " 112,\n",
              " 167,\n",
              " 2,\n",
              " 336,\n",
              " 385,\n",
              " 39,\n",
              " 4,\n",
              " 172,\n",
              " 4536,\n",
              " 1111,\n",
              " 17,\n",
              " 546,\n",
              " 38,\n",
              " 13,\n",
              " 447,\n",
              " 4,\n",
              " 192,\n",
              " 50,\n",
              " 16,\n",
              " 6,\n",
              " 147,\n",
              " 2025,\n",
              " 19,\n",
              " 14,\n",
              " 22,\n",
              " 4,\n",
              " 1920,\n",
              " 4613,\n",
              " 469,\n",
              " 4,\n",
              " 22,\n",
              " 71,\n",
              " 87,\n",
              " 12,\n",
              " 16,\n",
              " 43,\n",
              " 530,\n",
              " 38,\n",
              " 76,\n",
              " 15,\n",
              " 13,\n",
              " 1247,\n",
              " 4,\n",
              " 22,\n",
              " 17,\n",
              " 515,\n",
              " 17,\n",
              " 12,\n",
              " 16,\n",
              " 626,\n",
              " 18,\n",
              " 2,\n",
              " 5,\n",
              " 62,\n",
              " 386,\n",
              " 12,\n",
              " 8,\n",
              " 316,\n",
              " 8,\n",
              " 106,\n",
              " 5,\n",
              " 4,\n",
              " 2223,\n",
              " 5244,\n",
              " 16,\n",
              " 480,\n",
              " 66,\n",
              " 3785,\n",
              " 33,\n",
              " 4,\n",
              " 130,\n",
              " 12,\n",
              " 16,\n",
              " 38,\n",
              " 619,\n",
              " 5,\n",
              " 25,\n",
              " 124,\n",
              " 51,\n",
              " 36,\n",
              " 135,\n",
              " 48,\n",
              " 25,\n",
              " 1415,\n",
              " 33,\n",
              " 6,\n",
              " 22,\n",
              " 12,\n",
              " 215,\n",
              " 28,\n",
              " 77,\n",
              " 52,\n",
              " 5,\n",
              " 14,\n",
              " 407,\n",
              " 16,\n",
              " 82,\n",
              " 2,\n",
              " 8,\n",
              " 4,\n",
              " 107,\n",
              " 117,\n",
              " 5952,\n",
              " 15,\n",
              " 256,\n",
              " 4,\n",
              " 2,\n",
              " 7,\n",
              " 3766,\n",
              " 5,\n",
              " 723,\n",
              " 36,\n",
              " 71,\n",
              " 43,\n",
              " 530,\n",
              " 476,\n",
              " 26,\n",
              " 400,\n",
              " 317,\n",
              " 46,\n",
              " 7,\n",
              " 4,\n",
              " 2,\n",
              " 1029,\n",
              " 13,\n",
              " 104,\n",
              " 88,\n",
              " 4,\n",
              " 381,\n",
              " 15,\n",
              " 297,\n",
              " 98,\n",
              " 32,\n",
              " 2071,\n",
              " 56,\n",
              " 26,\n",
              " 141,\n",
              " 6,\n",
              " 194,\n",
              " 7486,\n",
              " 18,\n",
              " 4,\n",
              " 226,\n",
              " 22,\n",
              " 21,\n",
              " 134,\n",
              " 476,\n",
              " 26,\n",
              " 480,\n",
              " 5,\n",
              " 144,\n",
              " 30,\n",
              " 5535,\n",
              " 18,\n",
              " 51,\n",
              " 36,\n",
              " 28,\n",
              " 224,\n",
              " 92,\n",
              " 25,\n",
              " 104,\n",
              " 4,\n",
              " 226,\n",
              " 65,\n",
              " 16,\n",
              " 38,\n",
              " 1334,\n",
              " 88,\n",
              " 12,\n",
              " 16,\n",
              " 283,\n",
              " 5,\n",
              " 16,\n",
              " 4472,\n",
              " 113,\n",
              " 103,\n",
              " 32,\n",
              " 15,\n",
              " 16,\n",
              " 5345,\n",
              " 19,\n",
              " 178,\n",
              " 32]"
            ]
          },
          "metadata": {},
          "execution_count": 30
        }
      ]
    },
    {
      "cell_type": "code",
      "source": [
        "train_labels[0]"
      ],
      "metadata": {
        "id": "yoQR7wg55dNG",
        "colab": {
          "base_uri": "https://localhost:8080/"
        },
        "outputId": "9abb6491-41aa-462b-d291-b8d321fa6a4e"
      },
      "execution_count": 31,
      "outputs": [
        {
          "output_type": "execute_result",
          "data": {
            "text/plain": [
              "1"
            ]
          },
          "metadata": {},
          "execution_count": 31
        }
      ]
    },
    {
      "cell_type": "code",
      "source": [
        "max([max(sequence) for sequence in train_data])"
      ],
      "metadata": {
        "id": "aDgAokkd5fEJ",
        "colab": {
          "base_uri": "https://localhost:8080/"
        },
        "outputId": "9f4bf755-47cf-4f56-9749-c9a08cc0522c"
      },
      "execution_count": 32,
      "outputs": [
        {
          "output_type": "execute_result",
          "data": {
            "text/plain": [
              "9999"
            ]
          },
          "metadata": {},
          "execution_count": 32
        }
      ]
    },
    {
      "cell_type": "markdown",
      "source": [
        "Decoding reviews back to text"
      ],
      "metadata": {
        "id": "uZJ7swiJ5jMN"
      }
    },
    {
      "cell_type": "code",
      "source": [
        "word_index = imdb.get_word_index()\n",
        "reverse_word_index = dict(\n",
        "    [(value, key) for (key, value) in word_index.items()])\n",
        "decoded_review = \" \".join(\n",
        "    [reverse_word_index.get(i - 3, \"?\") for i in train_data[0]])"
      ],
      "metadata": {
        "id": "ToNaJNNZ5kDa"
      },
      "execution_count": 33,
      "outputs": []
    },
    {
      "cell_type": "markdown",
      "source": [
        "Preparing the data\n",
        "Encoding the integer sequences via multi-hot encoding"
      ],
      "metadata": {
        "id": "Ok_0-LI45qP9"
      }
    },
    {
      "cell_type": "code",
      "source": [
        "import numpy as np\n",
        "def vectorize_sequences(sequences, dimension=10000):\n",
        "    results = np.zeros((len(sequences), dimension))\n",
        "    for i, sequence in enumerate(sequences):\n",
        "        for j in sequence:\n",
        "            results[i, j] = 1.\n",
        "    return results\n",
        "x_train = vectorize_sequences(train_data)\n",
        "x_test = vectorize_sequences(test_data)\n"
      ],
      "metadata": {
        "id": "DvaCxDfV5si9"
      },
      "execution_count": 34,
      "outputs": []
    },
    {
      "cell_type": "code",
      "source": [
        "x_train[0]"
      ],
      "metadata": {
        "id": "pnTBar8z5vq5",
        "colab": {
          "base_uri": "https://localhost:8080/"
        },
        "outputId": "d12599d7-920c-40b1-c9c3-a4c4b1ebad92"
      },
      "execution_count": 35,
      "outputs": [
        {
          "output_type": "execute_result",
          "data": {
            "text/plain": [
              "array([0., 1., 1., ..., 0., 0., 0.])"
            ]
          },
          "metadata": {},
          "execution_count": 35
        }
      ]
    },
    {
      "cell_type": "code",
      "source": [
        "y_train = np.asarray(train_labels).astype(\"float32\")\n",
        "y_test = np.asarray(test_labels).astype(\"float32\")\n"
      ],
      "metadata": {
        "id": "Ez6H0F4C5vwJ"
      },
      "execution_count": 36,
      "outputs": []
    },
    {
      "cell_type": "markdown",
      "source": [
        "Building your model\n",
        "Model definition"
      ],
      "metadata": {
        "id": "GjEzfoYM6I69"
      }
    },
    {
      "cell_type": "code",
      "source": [
        "from tensorflow import keras\n",
        "from tensorflow.keras import layers\n",
        "\n",
        "model = keras.Sequential([\n",
        "    layers.Dense(64, activation=\"tanh\"),\n",
        "    layers.Dense(64, activation=\"tanh\"),\n",
        "    layers.Dense(1, activation=\"sigmoid\")\n",
        "])\n",
        "\n"
      ],
      "metadata": {
        "id": "3ezW105s6Jkn"
      },
      "execution_count": 37,
      "outputs": []
    },
    {
      "cell_type": "markdown",
      "source": [
        "Applying regularizations"
      ],
      "metadata": {
        "id": "fKrQiJhYDERE"
      }
    },
    {
      "cell_type": "code",
      "source": [
        "from keras import models\n",
        "from keras import layers\n",
        "from keras import regularizers\n",
        "\n",
        "model = models.Sequential()\n",
        "model.add(layers.Dense(64, kernel_regularizer=regularizers.l2(0.001), activation='relu', input_shape=(10000,)))\n",
        "model.add(layers.Dense(64, kernel_regularizer=regularizers.l2(0.001), activation='relu'))\n",
        "model.add(layers.Dense(1, activation='sigmoid'))"
      ],
      "metadata": {
        "id": "3-2kaB3OmDXm"
      },
      "execution_count": 38,
      "outputs": []
    },
    {
      "cell_type": "code",
      "source": [
        "from keras import models\n",
        "from keras import layers\n",
        "from keras import regularizers\n",
        "\n",
        "model = models.Sequential()\n",
        "model.add(layers.Dense(64, kernel_regularizer=regularizers.l1_l2(l1=0.001, l2=0.01), activation='relu', input_shape=(10000,)))\n",
        "model.add(layers.Dense(64, kernel_regularizer=regularizers.l1_l2(l1=0.001, l2=0.01), activation='relu'))\n",
        "model.add(layers.Dense(1, activation='sigmoid'))"
      ],
      "metadata": {
        "id": "R1z8wyotCLbB"
      },
      "execution_count": 39,
      "outputs": []
    },
    {
      "cell_type": "markdown",
      "source": [
        "Adding dropout"
      ],
      "metadata": {
        "id": "jaCHXAFGGzZj"
      }
    },
    {
      "cell_type": "code",
      "source": [
        "from keras.models import Sequential\n",
        "from keras.layers import Dense, Dropout\n",
        "\n",
        "\n",
        "model = Sequential()\n",
        "model.add(Dense(16, activation='relu', input_shape=(10000,)))\n",
        "model.add(Dropout(0.5))\n",
        "model.add(Dense(16, activation='relu'))\n",
        "model.add(Dropout(0.5))\n",
        "model.add(Dense(1, activation='sigmoid'))\n"
      ],
      "metadata": {
        "id": "zIQLhH9iG2NX"
      },
      "execution_count": 40,
      "outputs": []
    },
    {
      "cell_type": "markdown",
      "source": [
        "Adding reguralization and dropout together"
      ],
      "metadata": {
        "id": "mKcNQladIAcZ"
      }
    },
    {
      "cell_type": "code",
      "source": [
        "from keras import models\n",
        "from keras import layers\n",
        "from keras import regularizers\n",
        "from keras.layers import Dense, Dropout\n",
        "\n",
        "model = models.Sequential()\n",
        "model.add(layers.Dense(16, kernel_regularizer=regularizers.l2(0.001), activation='relu', input_shape=(10000,)))\n",
        "model.add(Dropout(0.5))\n",
        "model.add(layers.Dense(16, kernel_regularizer=regularizers.l2(0.001), activation='relu'))\n",
        "model.add(Dropout(0.5))\n",
        "model.add(layers.Dense(1, activation='sigmoid'))"
      ],
      "metadata": {
        "id": "GWI15zGMIFVE"
      },
      "execution_count": 41,
      "outputs": []
    },
    {
      "cell_type": "markdown",
      "source": [
        "Compiling the model"
      ],
      "metadata": {
        "id": "KAG5AYUk6Np4"
      }
    },
    {
      "cell_type": "code",
      "source": [
        "model.compile(optimizer=\"rmsprop\",\n",
        "              loss=\"binary_crossentropy\",\n",
        "             metrics=[\"accuracy\"])"
      ],
      "metadata": {
        "id": "ChcsuDociBuM"
      },
      "execution_count": 42,
      "outputs": []
    },
    {
      "cell_type": "code",
      "source": [
        "#from keras import optimizers\n",
        "#model.compile(optimizer=optimizers.RMSprop(learning_rate=0.001),\n",
        "              #loss=\"binary_crossentropy\",\n",
        "              #metrics=[\"accuracy\"])"
      ],
      "metadata": {
        "id": "p8aKS2BI6MEi"
      },
      "execution_count": 43,
      "outputs": []
    },
    {
      "cell_type": "markdown",
      "source": [
        "Validating your approach\n",
        "Setting aside a validation set"
      ],
      "metadata": {
        "id": "Qd52IidN6S6d"
      }
    },
    {
      "cell_type": "code",
      "source": [
        "x_val = x_train[:10000]\n",
        "partial_x_train = x_train[10000:]\n",
        "y_val = y_train[:10000]\n",
        "partial_y_train = y_train[10000:]\n"
      ],
      "metadata": {
        "id": "OPNSRjSk6Xw4"
      },
      "execution_count": 44,
      "outputs": []
    },
    {
      "cell_type": "markdown",
      "source": [
        "Training your model"
      ],
      "metadata": {
        "id": "e91UZ7886edt"
      }
    },
    {
      "cell_type": "code",
      "source": [
        "history = model.fit(partial_x_train,\n",
        "                    partial_y_train,\n",
        "                    epochs=20,\n",
        "                    batch_size=512,\n",
        "                    validation_data=(x_val, y_val))"
      ],
      "metadata": {
        "id": "nuS9VvJc6bMA",
        "colab": {
          "base_uri": "https://localhost:8080/"
        },
        "outputId": "c3dcccf2-6b23-48d6-c13a-30fae3596c2a"
      },
      "execution_count": 45,
      "outputs": [
        {
          "output_type": "stream",
          "name": "stdout",
          "text": [
            "Epoch 1/20\n",
            "30/30 [==============================] - 4s 96ms/step - loss: 0.6952 - accuracy: 0.6063 - val_loss: 0.5960 - val_accuracy: 0.8395\n",
            "Epoch 2/20\n",
            "30/30 [==============================] - 2s 54ms/step - loss: 0.5832 - accuracy: 0.7397 - val_loss: 0.4794 - val_accuracy: 0.8657\n",
            "Epoch 3/20\n",
            "30/30 [==============================] - 1s 41ms/step - loss: 0.4960 - accuracy: 0.8037 - val_loss: 0.4000 - val_accuracy: 0.8813\n",
            "Epoch 4/20\n",
            "30/30 [==============================] - 1s 42ms/step - loss: 0.4303 - accuracy: 0.8431 - val_loss: 0.3505 - val_accuracy: 0.8841\n",
            "Epoch 5/20\n",
            "30/30 [==============================] - 1s 42ms/step - loss: 0.3781 - accuracy: 0.8768 - val_loss: 0.3516 - val_accuracy: 0.8775\n",
            "Epoch 6/20\n",
            "30/30 [==============================] - 2s 58ms/step - loss: 0.3461 - accuracy: 0.8955 - val_loss: 0.3342 - val_accuracy: 0.8832\n",
            "Epoch 7/20\n",
            "30/30 [==============================] - 2s 65ms/step - loss: 0.3198 - accuracy: 0.9060 - val_loss: 0.3177 - val_accuracy: 0.8890\n",
            "Epoch 8/20\n",
            "30/30 [==============================] - 1s 40ms/step - loss: 0.2943 - accuracy: 0.9150 - val_loss: 0.3182 - val_accuracy: 0.8891\n",
            "Epoch 9/20\n",
            "30/30 [==============================] - 1s 42ms/step - loss: 0.2718 - accuracy: 0.9243 - val_loss: 0.3302 - val_accuracy: 0.8863\n",
            "Epoch 10/20\n",
            "30/30 [==============================] - 1s 42ms/step - loss: 0.2656 - accuracy: 0.9282 - val_loss: 0.3486 - val_accuracy: 0.8819\n",
            "Epoch 11/20\n",
            "30/30 [==============================] - 1s 38ms/step - loss: 0.2457 - accuracy: 0.9367 - val_loss: 0.3467 - val_accuracy: 0.8861\n",
            "Epoch 12/20\n",
            "30/30 [==============================] - 1s 41ms/step - loss: 0.2323 - accuracy: 0.9407 - val_loss: 0.4002 - val_accuracy: 0.8750\n",
            "Epoch 13/20\n",
            "30/30 [==============================] - 1s 43ms/step - loss: 0.2255 - accuracy: 0.9443 - val_loss: 0.3670 - val_accuracy: 0.8812\n",
            "Epoch 14/20\n",
            "30/30 [==============================] - 1s 42ms/step - loss: 0.2153 - accuracy: 0.9479 - val_loss: 0.3854 - val_accuracy: 0.8861\n",
            "Epoch 15/20\n",
            "30/30 [==============================] - 2s 53ms/step - loss: 0.2073 - accuracy: 0.9497 - val_loss: 0.4247 - val_accuracy: 0.8774\n",
            "Epoch 16/20\n",
            "30/30 [==============================] - 2s 58ms/step - loss: 0.2094 - accuracy: 0.9501 - val_loss: 0.3880 - val_accuracy: 0.8833\n",
            "Epoch 17/20\n",
            "30/30 [==============================] - 1s 44ms/step - loss: 0.1951 - accuracy: 0.9564 - val_loss: 0.4119 - val_accuracy: 0.8796\n",
            "Epoch 18/20\n",
            "30/30 [==============================] - 1s 42ms/step - loss: 0.1967 - accuracy: 0.9543 - val_loss: 0.4151 - val_accuracy: 0.8789\n",
            "Epoch 19/20\n",
            "30/30 [==============================] - 1s 38ms/step - loss: 0.1847 - accuracy: 0.9602 - val_loss: 0.4185 - val_accuracy: 0.8798\n",
            "Epoch 20/20\n",
            "30/30 [==============================] - 1s 38ms/step - loss: 0.1883 - accuracy: 0.9557 - val_loss: 0.4271 - val_accuracy: 0.8811\n"
          ]
        }
      ]
    },
    {
      "cell_type": "code",
      "source": [
        "history_dict = history.history\n",
        "history_dict.keys()"
      ],
      "metadata": {
        "id": "MssHbYEE6bZl",
        "colab": {
          "base_uri": "https://localhost:8080/"
        },
        "outputId": "94bbd859-bbc0-427c-8efa-4b8cf09a30c9"
      },
      "execution_count": 46,
      "outputs": [
        {
          "output_type": "execute_result",
          "data": {
            "text/plain": [
              "dict_keys(['loss', 'accuracy', 'val_loss', 'val_accuracy'])"
            ]
          },
          "metadata": {},
          "execution_count": 46
        }
      ]
    },
    {
      "cell_type": "markdown",
      "source": [
        "Plotting the training and validation loss\n"
      ],
      "metadata": {
        "id": "zf_MQEQ66lap"
      }
    },
    {
      "cell_type": "code",
      "source": [
        "import matplotlib.pyplot as plt\n",
        "history_dict = history.history\n",
        "loss_values = history_dict[\"loss\"]\n",
        "val_loss_values = history_dict[\"val_loss\"]\n",
        "epochs = range(1, len(loss_values) + 1)\n",
        "plt.plot(epochs, loss_values, \"bo\", label=\"Training loss\")\n",
        "plt.plot(epochs, val_loss_values, \"b\", label=\"Validation loss\")\n",
        "plt.title(\"Training and validation loss\")\n",
        "plt.xlabel(\"Epochs\")\n",
        "plt.ylabel(\"Loss\")\n",
        "plt.legend()\n",
        "plt.show()"
      ],
      "metadata": {
        "id": "emdy-fvN6mWy",
        "colab": {
          "base_uri": "https://localhost:8080/",
          "height": 472
        },
        "outputId": "461d4a67-aacf-4707-b0a3-58205d67fe7a"
      },
      "execution_count": 47,
      "outputs": [
        {
          "output_type": "display_data",
          "data": {
            "text/plain": [
              "<Figure size 640x480 with 1 Axes>"
            ],
            "image/png": "[encoded data removed]"
          },
          "metadata": {}
        }
      ]
    },
    {
      "cell_type": "markdown",
      "source": [
        "Plotting the training and validation accuracy"
      ],
      "metadata": {
        "id": "q1ejSWJ46ruK"
      }
    },
    {
      "cell_type": "code",
      "source": [
        "plt.clf()\n",
        "acc = history_dict[\"accuracy\"]\n",
        "val_acc = history_dict[\"val_accuracy\"]\n",
        "plt.plot(epochs, acc, \"bo\", label=\"Training acc\")\n",
        "plt.plot(epochs, val_acc, \"b\", label=\"Validation acc\")\n",
        "plt.title(\"Training and validation accuracy\")\n",
        "plt.xlabel(\"Epochs\")\n",
        "plt.ylabel(\"Accuracy\")\n",
        "plt.legend()\n",
        "plt.show()"
      ],
      "metadata": {
        "id": "zoZ9H3wk6sgA",
        "colab": {
          "base_uri": "https://localhost:8080/",
          "height": 472
        },
        "outputId": "308f65c3-4e82-46f1-eb83-9ed0a4b49764"
      },
      "execution_count": 48,
      "outputs": [
        {
          "output_type": "display_data",
          "data": {
            "text/plain": [
              "<Figure size 640x480 with 1 Axes>"
            ],
            "image/png": "[encoded data removed]"
          },
          "metadata": {}
        }
      ]
    },
    {
      "cell_type": "markdown",
      "source": [
        "**Retraining a model from scratch**\n"
      ],
      "metadata": {
        "id": "6qh5TFwSDpWw"
      }
    },
    {
      "cell_type": "code",
      "source": [
        "model = models.Sequential()\n",
        "model.add(layers.Dense(16, activation='relu', input_shape=(10000,)))\n",
        "model.add(layers.Dense(16, activation='relu'))\n",
        "model.add(layers.Dense(1, activation='sigmoid'))\n",
        "\n",
        "model.compile(optimizer='rmsprop',\n",
        "              loss='binary_crossentropy',\n",
        "              metrics=['accuracy'])\n",
        "\n",
        "model.fit(x_train, y_train, epochs=4, batch_size=512)\n",
        "results = model.evaluate(x_test, y_test)"
      ],
      "metadata": {
        "colab": {
          "base_uri": "https://localhost:8080/"
        },
        "id": "bowJoJ3E14pb",
        "outputId": "2d568363-aef1-41ef-f319-da0e0d87ff54"
      },
      "execution_count": 49,
      "outputs": [
        {
          "output_type": "stream",
          "name": "stdout",
          "text": [
            "Epoch 1/4\n",
            "49/49 [==============================] - 3s 38ms/step - loss: 0.4784 - accuracy: 0.8152\n",
            "Epoch 2/4\n",
            "49/49 [==============================] - 2s 44ms/step - loss: 0.2839 - accuracy: 0.9019\n",
            "Epoch 3/4\n",
            "49/49 [==============================] - 1s 29ms/step - loss: 0.2186 - accuracy: 0.9208\n",
            "Epoch 4/4\n",
            "49/49 [==============================] - 1s 28ms/step - loss: 0.1846 - accuracy: 0.9340\n",
            "782/782 [==============================] - 2s 2ms/step - loss: 0.2852 - accuracy: 0.8863\n"
          ]
        }
      ]
    },
    {
      "cell_type": "code",
      "source": [
        "#model = Sequential()\n",
        "#model.add(Dense(16, activation='relu', input_shape=(10000,)))\n",
        "#model.add(Dropout(0.5))\n",
        "#model.add(Dense(16, activation='relu'))\n",
        "#model.add(Dropout(0.5))\n",
        "#model.add(Dense(1, activation='sigmoid'))\n",
        "\n",
        "#model.compile(optimizer=\"rmsprop\",\n",
        "              #loss=\"binary_crossentropy\",\n",
        "              #metrics=[\"accuracy\"])\n",
        "#model.fit(x_train, y_train, epochs=7, batch_size=512)\n",
        "#results = model.evaluate(x_test, y_test)"
      ],
      "metadata": {
        "id": "RAiLSUzGxB2_"
      },
      "execution_count": 50,
      "outputs": []
    },
    {
      "cell_type": "code",
      "source": [
        "#model = keras.Sequential([\n",
        "    #layers.Dense(64, activation=\"relu\"),\n",
        "    #layers.Dense(64, activation=\"relu\"),\n",
        "    #layers.Dense(1, activation=\"sigmoid\")\n",
        "#])\n",
        "#model.compile(optimizer=\"rmsprop\",\n",
        "              #loss=\"binary_crossentropy\",\n",
        "             # metrics=[\"accuracy\"])\n",
        "#model.fit(x_train, y_train, epochs=4, batch_size=512)\n",
        "#results = model.evaluate(x_test, y_test)"
      ],
      "metadata": {
        "id": "NiYfFtJJyzYX"
      },
      "execution_count": 51,
      "outputs": []
    },
    {
      "cell_type": "code",
      "source": [
        "#model = models.Sequential()\n",
        "#model.add(layers.Dense(64, kernel_regularizer=regularizers.l1_l2(l1=0.001, l2=0.01), activation='relu', input_shape=(10000,)))\n",
        "#model.add(layers.Dense(64, kernel_regularizer=regularizers.l1_l2(l1=0.001, l2=0.01), activation='relu'))\n",
        "#model.add(layers.Dense(1, activation='sigmoid'))\n",
        "\n",
        "#model.compile(optimizer='rmsprop',\n",
        "              #loss='binary_crossentropy',\n",
        "              #metrics=['accuracy'])\n",
        "\n",
        "#model.fit(x_train, y_train, epochs=15, batch_size=512)\n",
        "#results = model.evaluate(x_test, y_test)"
      ],
      "metadata": {
        "id": "YrzXCX9mDlwZ"
      },
      "execution_count": 52,
      "outputs": []
    },
    {
      "cell_type": "code",
      "source": [
        "results"
      ],
      "metadata": {
        "id": "MMRvkeiLDl0E",
        "colab": {
          "base_uri": "https://localhost:8080/"
        },
        "outputId": "2ebddfcc-6680-4b02-81b8-9707f98cb5b5"
      },
      "execution_count": 53,
      "outputs": [
        {
          "output_type": "execute_result",
          "data": {
            "text/plain": [
              "[0.28519362211227417, 0.8863199949264526]"
            ]
          },
          "metadata": {},
          "execution_count": 53
        }
      ]
    },
    {
      "cell_type": "code",
      "source": [
        "model.predict(x_test)"
      ],
      "metadata": {
        "id": "79e_q7lXOrlf",
        "colab": {
          "base_uri": "https://localhost:8080/"
        },
        "outputId": "670d3194-fc8a-4c5b-afa4-f9a5b2349815"
      },
      "execution_count": 54,
      "outputs": [
        {
          "output_type": "stream",
          "name": "stdout",
          "text": [
            "782/782 [==============================] - 2s 2ms/step\n"
          ]
        },
        {
          "output_type": "execute_result",
          "data": {
            "text/plain": [
              "array([[0.1760807 ],\n",
              "       [0.9997426 ],\n",
              "       [0.79454005],\n",
              "       ...,\n",
              "       [0.10929765],\n",
              "       [0.07083869],\n",
              "       [0.58213496]], dtype=float32)"
            ]
          },
          "metadata": {},
          "execution_count": 54
        }
      ]
    }
  ]
}